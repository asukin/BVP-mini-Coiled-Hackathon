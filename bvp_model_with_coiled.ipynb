{
 "cells": [
  {
   "cell_type": "markdown",
   "metadata": {},
   "source": [
    "# Bessemer Hackathon Using Coiled\n",
    "\n",
    "Hi Matt! Over the past quarter Bessemer has been working on a model to predict valuation step-ups in early stage companies. Yesterday, we had a mini hackathon where we ported a very small chunk of our model to this coiled-hosted notebook to see how Coiled and Dask work! As you can see in our MSE plot, we clearly didn't port over any hyperparameter tuning to optimize the model but hoping to do that after the holidays!  "
   ]
  },
  {
   "cell_type": "markdown",
   "metadata": {},
   "source": [
    "## Pip install dependencies"
   ]
  },
  {
   "cell_type": "code",
   "execution_count": 18,
   "metadata": {},
   "outputs": [
    {
     "name": "stdout",
     "output_type": "stream",
     "text": [
      "Requirement already satisfied: dask in /opt/conda/lib/python3.8/site-packages (2.30.0)\n",
      "Requirement already satisfied: pyyaml in /opt/conda/lib/python3.8/site-packages (from dask) (5.3.1)\n",
      "Requirement already satisfied: pyfiglet in /opt/conda/lib/python3.8/site-packages (0.8.post1)\n",
      "Requirement already satisfied: coiled in /opt/conda/lib/python3.8/site-packages (0.0.30)\n",
      "Requirement already satisfied: aiohttp in /opt/conda/lib/python3.8/site-packages (from coiled) (3.7.3)\n",
      "Requirement already satisfied: click in /opt/conda/lib/python3.8/site-packages (from coiled) (7.1.2)\n",
      "Requirement already satisfied: dask[complete]>=2.23.0 in /opt/conda/lib/python3.8/site-packages (from coiled) (2.30.0)\n",
      "Requirement already satisfied: pandas>=1.1.0 in /opt/conda/lib/python3.8/site-packages (from coiled) (1.1.4)\n",
      "Requirement already satisfied: ipython in /opt/conda/lib/python3.8/site-packages (from coiled) (7.19.0)\n",
      "Requirement already satisfied: distributed>=2.23.0 in /opt/conda/lib/python3.8/site-packages (from coiled) (2.30.1)\n",
      "Requirement already satisfied: s3fs in /opt/conda/lib/python3.8/site-packages (from coiled) (0.5.1)\n",
      "Requirement already satisfied: aiobotocore>=1.1.1 in /opt/conda/lib/python3.8/site-packages (from coiled) (1.1.2)\n",
      "Requirement already satisfied: botocore<1.17.45,>=1.17.44 in /opt/conda/lib/python3.8/site-packages (from aiobotocore>=1.1.1->coiled) (1.17.44)\n",
      "Requirement already satisfied: wrapt>=1.10.10 in /opt/conda/lib/python3.8/site-packages (from aiobotocore>=1.1.1->coiled) (1.12.1)\n",
      "Requirement already satisfied: aioitertools>=0.5.1 in /opt/conda/lib/python3.8/site-packages (from aiobotocore>=1.1.1->coiled) (0.7.1)\n",
      "Requirement already satisfied: aiohttp in /opt/conda/lib/python3.8/site-packages (from coiled) (3.7.3)\n",
      "Requirement already satisfied: multidict<7.0,>=4.5 in /opt/conda/lib/python3.8/site-packages (from aiohttp->coiled) (4.7.5)\n",
      "Requirement already satisfied: async-timeout<4.0,>=3.0 in /opt/conda/lib/python3.8/site-packages (from aiohttp->coiled) (3.0.1)\n",
      "Requirement already satisfied: yarl<2.0,>=1.0 in /opt/conda/lib/python3.8/site-packages (from aiohttp->coiled) (1.6.3)\n",
      "Requirement already satisfied: attrs>=17.3.0 in /opt/conda/lib/python3.8/site-packages (from aiohttp->coiled) (20.3.0)\n",
      "Requirement already satisfied: typing-extensions>=3.6.5 in /opt/conda/lib/python3.8/site-packages (from aiohttp->coiled) (3.7.4.3)\n",
      "Requirement already satisfied: chardet<4.0,>=2.0 in /opt/conda/lib/python3.8/site-packages (from aiohttp->coiled) (3.0.4)\n",
      "Requirement already satisfied: typing-extensions>=3.6.5 in /opt/conda/lib/python3.8/site-packages (from aiohttp->coiled) (3.7.4.3)\n",
      "Requirement already satisfied: python-dateutil<3.0.0,>=2.1 in /opt/conda/lib/python3.8/site-packages (from botocore<1.17.45,>=1.17.44->aiobotocore>=1.1.1->coiled) (2.8.1)\n",
      "Requirement already satisfied: jmespath<1.0.0,>=0.7.1 in /opt/conda/lib/python3.8/site-packages (from botocore<1.17.45,>=1.17.44->aiobotocore>=1.1.1->coiled) (0.10.0)\n",
      "Requirement already satisfied: docutils<0.16,>=0.10 in /opt/conda/lib/python3.8/site-packages (from botocore<1.17.45,>=1.17.44->aiobotocore>=1.1.1->coiled) (0.15.2)\n",
      "Requirement already satisfied: urllib3<1.26,>=1.20 in /opt/conda/lib/python3.8/site-packages (from botocore<1.17.45,>=1.17.44->aiobotocore>=1.1.1->coiled) (1.25.11)\n",
      "Requirement already satisfied: pyyaml in /opt/conda/lib/python3.8/site-packages (from dask[complete]>=2.23.0->coiled) (5.3.1)\n",
      "Requirement already satisfied: distributed>=2.23.0 in /opt/conda/lib/python3.8/site-packages (from coiled) (2.30.1)\n",
      "Requirement already satisfied: toolz>=0.8.2 in /opt/conda/lib/python3.8/site-packages (from dask[complete]>=2.23.0->coiled) (0.11.1)\n",
      "Requirement already satisfied: partd>=0.3.10 in /opt/conda/lib/python3.8/site-packages (from dask[complete]>=2.23.0->coiled) (1.1.0)\n",
      "Requirement already satisfied: cloudpickle>=0.2.2 in /opt/conda/lib/python3.8/site-packages (from dask[complete]>=2.23.0->coiled) (1.6.0)\n",
      "Requirement already satisfied: pandas>=1.1.0 in /opt/conda/lib/python3.8/site-packages (from coiled) (1.1.4)\n",
      "Requirement already satisfied: numpy>=1.13.0 in /opt/conda/lib/python3.8/site-packages (from dask[complete]>=2.23.0->coiled) (1.19.4)\n",
      "Requirement already satisfied: bokeh!=2.0.0,>=1.0.0 in /opt/conda/lib/python3.8/site-packages (from dask[complete]>=2.23.0->coiled) (2.2.3)\n",
      "Requirement already satisfied: fsspec>=0.6.0 in /opt/conda/lib/python3.8/site-packages (from dask[complete]>=2.23.0->coiled) (0.8.4)\n",
      "Requirement already satisfied: pillow>=7.1.0 in /opt/conda/lib/python3.8/site-packages (from bokeh!=2.0.0,>=1.0.0->dask[complete]>=2.23.0->coiled) (8.0.1)\n",
      "Requirement already satisfied: pyyaml in /opt/conda/lib/python3.8/site-packages (from dask[complete]>=2.23.0->coiled) (5.3.1)\n",
      "Requirement already satisfied: tornado>=5.1 in /opt/conda/lib/python3.8/site-packages (from bokeh!=2.0.0,>=1.0.0->dask[complete]>=2.23.0->coiled) (6.1)\n",
      "Requirement already satisfied: Jinja2>=2.7 in /opt/conda/lib/python3.8/site-packages (from bokeh!=2.0.0,>=1.0.0->dask[complete]>=2.23.0->coiled) (2.11.2)\n",
      "Requirement already satisfied: packaging>=16.8 in /opt/conda/lib/python3.8/site-packages (from bokeh!=2.0.0,>=1.0.0->dask[complete]>=2.23.0->coiled) (20.4)\n",
      "Requirement already satisfied: python-dateutil<3.0.0,>=2.1 in /opt/conda/lib/python3.8/site-packages (from botocore<1.17.45,>=1.17.44->aiobotocore>=1.1.1->coiled) (2.8.1)\n",
      "Requirement already satisfied: numpy>=1.13.0 in /opt/conda/lib/python3.8/site-packages (from dask[complete]>=2.23.0->coiled) (1.19.4)\n",
      "Requirement already satisfied: typing-extensions>=3.6.5 in /opt/conda/lib/python3.8/site-packages (from aiohttp->coiled) (3.7.4.3)\n",
      "Requirement already satisfied: pyyaml in /opt/conda/lib/python3.8/site-packages (from dask[complete]>=2.23.0->coiled) (5.3.1)\n",
      "Requirement already satisfied: cloudpickle>=0.2.2 in /opt/conda/lib/python3.8/site-packages (from dask[complete]>=2.23.0->coiled) (1.6.0)\n",
      "Requirement already satisfied: click in /opt/conda/lib/python3.8/site-packages (from coiled) (7.1.2)\n",
      "Requirement already satisfied: setuptools in /opt/conda/lib/python3.8/site-packages (from distributed>=2.23.0->coiled) (49.6.0.post20201009)\n",
      "Requirement already satisfied: toolz>=0.8.2 in /opt/conda/lib/python3.8/site-packages (from dask[complete]>=2.23.0->coiled) (0.11.1)\n",
      "Requirement already satisfied: pyyaml in /opt/conda/lib/python3.8/site-packages (from dask[complete]>=2.23.0->coiled) (5.3.1)\n",
      "Requirement already satisfied: sortedcontainers!=2.0.0,!=2.0.1 in /opt/conda/lib/python3.8/site-packages (from distributed>=2.23.0->coiled) (2.3.0)\n",
      "Requirement already satisfied: zict>=0.1.3 in /opt/conda/lib/python3.8/site-packages (from distributed>=2.23.0->coiled) (2.0.0)\n",
      "Requirement already satisfied: tornado>=5.1 in /opt/conda/lib/python3.8/site-packages (from bokeh!=2.0.0,>=1.0.0->dask[complete]>=2.23.0->coiled) (6.1)\n",
      "Requirement already satisfied: psutil>=5.0 in /opt/conda/lib/python3.8/site-packages (from distributed>=2.23.0->coiled) (5.7.3)\n",
      "Requirement already satisfied: tblib>=1.6.0 in /opt/conda/lib/python3.8/site-packages (from distributed>=2.23.0->coiled) (1.6.0)\n",
      "Requirement already satisfied: msgpack>=0.6.0 in /opt/conda/lib/python3.8/site-packages (from distributed>=2.23.0->coiled) (1.0.0)\n",
      "Requirement already satisfied: jedi>=0.10 in /opt/conda/lib/python3.8/site-packages (from ipython->coiled) (0.17.2)\n",
      "Requirement already satisfied: pickleshare in /opt/conda/lib/python3.8/site-packages (from ipython->coiled) (0.7.5)\n",
      "Requirement already satisfied: pexpect>4.3 in /opt/conda/lib/python3.8/site-packages (from ipython->coiled) (4.8.0)\n",
      "Requirement already satisfied: traitlets>=4.2 in /opt/conda/lib/python3.8/site-packages (from ipython->coiled) (5.0.5)\n",
      "Requirement already satisfied: decorator in /opt/conda/lib/python3.8/site-packages (from ipython->coiled) (4.4.2)\n",
      "Requirement already satisfied: backcall in /opt/conda/lib/python3.8/site-packages (from ipython->coiled) (0.2.0)\n",
      "Requirement already satisfied: setuptools in /opt/conda/lib/python3.8/site-packages (from distributed>=2.23.0->coiled) (49.6.0.post20201009)\n",
      "Requirement already satisfied: prompt-toolkit!=3.0.0,!=3.0.1,<3.1.0,>=2.0.0 in /opt/conda/lib/python3.8/site-packages (from ipython->coiled) (3.0.8)\n",
      "Requirement already satisfied: pygments in /opt/conda/lib/python3.8/site-packages (from ipython->coiled) (2.7.2)\n",
      "Requirement already satisfied: parso<0.8.0,>=0.7.0 in /opt/conda/lib/python3.8/site-packages (from jedi>=0.10->ipython->coiled) (0.7.1)\n",
      "Requirement already satisfied: MarkupSafe>=0.23 in /opt/conda/lib/python3.8/site-packages (from Jinja2>=2.7->bokeh!=2.0.0,>=1.0.0->dask[complete]>=2.23.0->coiled) (1.1.1)\n",
      "Requirement already satisfied: six in /opt/conda/lib/python3.8/site-packages (from packaging>=16.8->bokeh!=2.0.0,>=1.0.0->dask[complete]>=2.23.0->coiled) (1.15.0)\n",
      "Requirement already satisfied: pyparsing>=2.0.2 in /opt/conda/lib/python3.8/site-packages (from packaging>=16.8->bokeh!=2.0.0,>=1.0.0->dask[complete]>=2.23.0->coiled) (2.4.7)\n",
      "Requirement already satisfied: python-dateutil<3.0.0,>=2.1 in /opt/conda/lib/python3.8/site-packages (from botocore<1.17.45,>=1.17.44->aiobotocore>=1.1.1->coiled) (2.8.1)\n",
      "Requirement already satisfied: pytz>=2017.2 in /opt/conda/lib/python3.8/site-packages (from pandas>=1.1.0->coiled) (2020.4)\n",
      "Requirement already satisfied: numpy>=1.13.0 in /opt/conda/lib/python3.8/site-packages (from dask[complete]>=2.23.0->coiled) (1.19.4)\n",
      "Requirement already satisfied: locket in /opt/conda/lib/python3.8/site-packages (from partd>=0.3.10->dask[complete]>=2.23.0->coiled) (0.2.0)\n",
      "Requirement already satisfied: toolz>=0.8.2 in /opt/conda/lib/python3.8/site-packages (from dask[complete]>=2.23.0->coiled) (0.11.1)\n",
      "Requirement already satisfied: ptyprocess>=0.5 in /opt/conda/lib/python3.8/site-packages (from pexpect>4.3->ipython->coiled) (0.6.0)\n",
      "Requirement already satisfied: wcwidth in /opt/conda/lib/python3.8/site-packages (from prompt-toolkit!=3.0.0,!=3.0.1,<3.1.0,>=2.0.0->ipython->coiled) (0.2.5)\n",
      "Requirement already satisfied: six in /opt/conda/lib/python3.8/site-packages (from packaging>=16.8->bokeh!=2.0.0,>=1.0.0->dask[complete]>=2.23.0->coiled) (1.15.0)\n",
      "Requirement already satisfied: fsspec>=0.6.0 in /opt/conda/lib/python3.8/site-packages (from dask[complete]>=2.23.0->coiled) (0.8.4)\n",
      "Requirement already satisfied: aiobotocore>=1.1.1 in /opt/conda/lib/python3.8/site-packages (from coiled) (1.1.2)\n",
      "Requirement already satisfied: ipython-genutils in /opt/conda/lib/python3.8/site-packages (from traitlets>=4.2->ipython->coiled) (0.2.0)\n",
      "Requirement already satisfied: idna>=2.0 in /opt/conda/lib/python3.8/site-packages (from yarl<2.0,>=1.0->aiohttp->coiled) (2.10)\n",
      "Requirement already satisfied: multidict<7.0,>=4.5 in /opt/conda/lib/python3.8/site-packages (from aiohttp->coiled) (4.7.5)\n",
      "Requirement already satisfied: heapdict in /opt/conda/lib/python3.8/site-packages (from zict>=0.1.3->distributed>=2.23.0->coiled) (1.0.1)\n",
      "Requirement already satisfied: modin[ray] in /opt/conda/lib/python3.8/site-packages (0.8.2)\n",
      "Requirement already satisfied: packaging in /opt/conda/lib/python3.8/site-packages (from modin[ray]) (20.4)\n",
      "Requirement already satisfied: pandas==1.1.4 in /opt/conda/lib/python3.8/site-packages (from modin[ray]) (1.1.4)\n",
      "Requirement already satisfied: pyarrow==1.0 in /opt/conda/lib/python3.8/site-packages (from modin[ray]) (1.0.0)\n",
      "Requirement already satisfied: ray>=1.0.0 in /opt/conda/lib/python3.8/site-packages (from modin[ray]) (1.1.0)\n",
      "Requirement already satisfied: packaging in /opt/conda/lib/python3.8/site-packages (from modin[ray]) (20.4)\n",
      "Requirement already satisfied: pandas==1.1.4 in /opt/conda/lib/python3.8/site-packages (from modin[ray]) (1.1.4)\n",
      "Requirement already satisfied: pyparsing>=2.0.2 in /opt/conda/lib/python3.8/site-packages (from packaging->modin[ray]) (2.4.7)\n",
      "Requirement already satisfied: six in /opt/conda/lib/python3.8/site-packages (from packaging->modin[ray]) (1.15.0)\n",
      "Requirement already satisfied: python-dateutil>=2.7.3 in /opt/conda/lib/python3.8/site-packages (from pandas==1.1.4->modin[ray]) (2.8.1)\n",
      "Requirement already satisfied: pytz>=2017.2 in /opt/conda/lib/python3.8/site-packages (from pandas==1.1.4->modin[ray]) (2020.4)\n",
      "Requirement already satisfied: numpy>=1.15.4 in /opt/conda/lib/python3.8/site-packages (from pandas==1.1.4->modin[ray]) (1.19.4)\n",
      "Requirement already satisfied: numpy>=1.15.4 in /opt/conda/lib/python3.8/site-packages (from pandas==1.1.4->modin[ray]) (1.19.4)\n",
      "Requirement already satisfied: six in /opt/conda/lib/python3.8/site-packages (from packaging->modin[ray]) (1.15.0)\n",
      "Requirement already satisfied: jsonschema in /opt/conda/lib/python3.8/site-packages (from ray>=1.0.0->modin[ray]) (3.2.0)\n",
      "Requirement already satisfied: aiohttp in /opt/conda/lib/python3.8/site-packages (from ray>=1.0.0->modin[ray]) (3.7.3)\n",
      "Requirement already satisfied: msgpack<2.0.0,>=1.0.0 in /opt/conda/lib/python3.8/site-packages (from ray>=1.0.0->modin[ray]) (1.0.0)\n",
      "Requirement already satisfied: numpy>=1.15.4 in /opt/conda/lib/python3.8/site-packages (from pandas==1.1.4->modin[ray]) (1.19.4)\n",
      "Requirement already satisfied: colorama in /opt/conda/lib/python3.8/site-packages (from ray>=1.0.0->modin[ray]) (0.4.4)\n",
      "Requirement already satisfied: opencensus in /opt/conda/lib/python3.8/site-packages (from ray>=1.0.0->modin[ray]) (0.7.11)\n",
      "Requirement already satisfied: aiohttp-cors in /opt/conda/lib/python3.8/site-packages (from ray>=1.0.0->modin[ray]) (0.7.0)\n",
      "Requirement already satisfied: filelock in /opt/conda/lib/python3.8/site-packages (from ray>=1.0.0->modin[ray]) (3.0.12)\n",
      "Requirement already satisfied: redis>=3.5.0 in /opt/conda/lib/python3.8/site-packages (from ray>=1.0.0->modin[ray]) (3.5.3)\n",
      "Requirement already satisfied: grpcio>=1.28.1 in /opt/conda/lib/python3.8/site-packages (from ray>=1.0.0->modin[ray]) (1.34.0)\n",
      "Requirement already satisfied: click>=7.0 in /opt/conda/lib/python3.8/site-packages (from ray>=1.0.0->modin[ray]) (7.1.2)\n",
      "Requirement already satisfied: protobuf>=3.8.0 in /opt/conda/lib/python3.8/site-packages (from ray>=1.0.0->modin[ray]) (3.14.0)\n",
      "Requirement already satisfied: py-spy>=0.2.0 in /opt/conda/lib/python3.8/site-packages (from ray>=1.0.0->modin[ray]) (0.3.3)\n",
      "Requirement already satisfied: requests in /opt/conda/lib/python3.8/site-packages (from ray>=1.0.0->modin[ray]) (2.24.0)\n",
      "Requirement already satisfied: pyyaml in /opt/conda/lib/python3.8/site-packages (from ray>=1.0.0->modin[ray]) (5.3.1)\n",
      "Requirement already satisfied: prometheus-client>=0.7.1 in /opt/conda/lib/python3.8/site-packages (from ray>=1.0.0->modin[ray]) (0.8.0)\n",
      "Requirement already satisfied: aioredis in /opt/conda/lib/python3.8/site-packages (from ray>=1.0.0->modin[ray]) (1.3.1)\n",
      "Requirement already satisfied: colorful in /opt/conda/lib/python3.8/site-packages (from ray>=1.0.0->modin[ray]) (0.5.4)\n",
      "Requirement already satisfied: gpustat in /opt/conda/lib/python3.8/site-packages (from ray>=1.0.0->modin[ray]) (0.6.0)\n",
      "Requirement already satisfied: attrs>=17.3.0 in /opt/conda/lib/python3.8/site-packages (from aiohttp->ray>=1.0.0->modin[ray]) (20.3.0)\n",
      "Requirement already satisfied: typing-extensions>=3.6.5 in /opt/conda/lib/python3.8/site-packages (from aiohttp->ray>=1.0.0->modin[ray]) (3.7.4.3)\n",
      "Requirement already satisfied: chardet<4.0,>=2.0 in /opt/conda/lib/python3.8/site-packages (from aiohttp->ray>=1.0.0->modin[ray]) (3.0.4)\n",
      "Requirement already satisfied: async-timeout<4.0,>=3.0 in /opt/conda/lib/python3.8/site-packages (from aiohttp->ray>=1.0.0->modin[ray]) (3.0.1)\n",
      "Requirement already satisfied: yarl<2.0,>=1.0 in /opt/conda/lib/python3.8/site-packages (from aiohttp->ray>=1.0.0->modin[ray]) (1.6.3)\n",
      "Requirement already satisfied: multidict<7.0,>=4.5 in /opt/conda/lib/python3.8/site-packages (from aiohttp->ray>=1.0.0->modin[ray]) (4.7.5)\n",
      "Requirement already satisfied: aiohttp in /opt/conda/lib/python3.8/site-packages (from ray>=1.0.0->modin[ray]) (3.7.3)\n",
      "Requirement already satisfied: async-timeout<4.0,>=3.0 in /opt/conda/lib/python3.8/site-packages (from aiohttp->ray>=1.0.0->modin[ray]) (3.0.1)\n",
      "Requirement already satisfied: hiredis in /opt/conda/lib/python3.8/site-packages (from aioredis->ray>=1.0.0->modin[ray]) (1.1.0)\n",
      "Requirement already satisfied: blessings>=1.6 in /opt/conda/lib/python3.8/site-packages (from gpustat->ray>=1.0.0->modin[ray]) (1.7)\n",
      "Requirement already satisfied: nvidia-ml-py3>=7.352.0 in /opt/conda/lib/python3.8/site-packages (from gpustat->ray>=1.0.0->modin[ray]) (7.352.0)\n",
      "Requirement already satisfied: psutil in /opt/conda/lib/python3.8/site-packages (from gpustat->ray>=1.0.0->modin[ray]) (5.7.3)\n",
      "Requirement already satisfied: six in /opt/conda/lib/python3.8/site-packages (from packaging->modin[ray]) (1.15.0)\n",
      "Requirement already satisfied: six in /opt/conda/lib/python3.8/site-packages (from packaging->modin[ray]) (1.15.0)\n",
      "Requirement already satisfied: six in /opt/conda/lib/python3.8/site-packages (from packaging->modin[ray]) (1.15.0)\n",
      "Requirement already satisfied: attrs>=17.3.0 in /opt/conda/lib/python3.8/site-packages (from aiohttp->ray>=1.0.0->modin[ray]) (20.3.0)\n",
      "Requirement already satisfied: pyrsistent>=0.14.0 in /opt/conda/lib/python3.8/site-packages (from jsonschema->ray>=1.0.0->modin[ray]) (0.17.3)\n",
      "Requirement already satisfied: setuptools in /opt/conda/lib/python3.8/site-packages (from jsonschema->ray>=1.0.0->modin[ray]) (49.6.0.post20201009)\n",
      "Requirement already satisfied: six in /opt/conda/lib/python3.8/site-packages (from packaging->modin[ray]) (1.15.0)\n",
      "Requirement already satisfied: opencensus-context==0.1.2 in /opt/conda/lib/python3.8/site-packages (from opencensus->ray>=1.0.0->modin[ray]) (0.1.2)\n",
      "Requirement already satisfied: google-api-core<2.0.0,>=1.0.0 in /opt/conda/lib/python3.8/site-packages (from opencensus->ray>=1.0.0->modin[ray]) (1.24.1)\n",
      "Requirement already satisfied: protobuf>=3.8.0 in /opt/conda/lib/python3.8/site-packages (from ray>=1.0.0->modin[ray]) (3.14.0)\n",
      "Requirement already satisfied: requests in /opt/conda/lib/python3.8/site-packages (from ray>=1.0.0->modin[ray]) (2.24.0)\n",
      "Requirement already satisfied: pytz>=2017.2 in /opt/conda/lib/python3.8/site-packages (from pandas==1.1.4->modin[ray]) (2020.4)\n",
      "Requirement already satisfied: six in /opt/conda/lib/python3.8/site-packages (from packaging->modin[ray]) (1.15.0)\n",
      "Requirement already satisfied: google-auth<2.0dev,>=1.21.1 in /opt/conda/lib/python3.8/site-packages (from google-api-core<2.0.0,>=1.0.0->opencensus->ray>=1.0.0->modin[ray]) (1.24.0)\n",
      "Requirement already satisfied: googleapis-common-protos<2.0dev,>=1.6.0 in /opt/conda/lib/python3.8/site-packages (from google-api-core<2.0.0,>=1.0.0->opencensus->ray>=1.0.0->modin[ray]) (1.52.0)\n",
      "Requirement already satisfied: setuptools in /opt/conda/lib/python3.8/site-packages (from jsonschema->ray>=1.0.0->modin[ray]) (49.6.0.post20201009)\n",
      "Requirement already satisfied: setuptools in /opt/conda/lib/python3.8/site-packages (from jsonschema->ray>=1.0.0->modin[ray]) (49.6.0.post20201009)\n",
      "Requirement already satisfied: pyasn1-modules>=0.2.1 in /opt/conda/lib/python3.8/site-packages (from google-auth<2.0dev,>=1.21.1->google-api-core<2.0.0,>=1.0.0->opencensus->ray>=1.0.0->modin[ray]) (0.2.8)\n",
      "Requirement already satisfied: cachetools<5.0,>=2.0.0 in /opt/conda/lib/python3.8/site-packages (from google-auth<2.0dev,>=1.21.1->google-api-core<2.0.0,>=1.0.0->opencensus->ray>=1.0.0->modin[ray]) (4.2.0)\n",
      "Requirement already satisfied: rsa<5,>=3.1.4 in /opt/conda/lib/python3.8/site-packages (from google-auth<2.0dev,>=1.21.1->google-api-core<2.0.0,>=1.0.0->opencensus->ray>=1.0.0->modin[ray]) (4.6)\n",
      "Requirement already satisfied: six in /opt/conda/lib/python3.8/site-packages (from packaging->modin[ray]) (1.15.0)\n",
      "Requirement already satisfied: protobuf>=3.8.0 in /opt/conda/lib/python3.8/site-packages (from ray>=1.0.0->modin[ray]) (3.14.0)\n",
      "Requirement already satisfied: six in /opt/conda/lib/python3.8/site-packages (from packaging->modin[ray]) (1.15.0)\n",
      "Requirement already satisfied: pyasn1<0.5.0,>=0.4.6 in /opt/conda/lib/python3.8/site-packages (from pyasn1-modules>=0.2.1->google-auth<2.0dev,>=1.21.1->google-api-core<2.0.0,>=1.0.0->opencensus->ray>=1.0.0->modin[ray]) (0.4.8)\n",
      "Requirement already satisfied: urllib3!=1.25.0,!=1.25.1,<1.26,>=1.21.1 in /opt/conda/lib/python3.8/site-packages (from requests->ray>=1.0.0->modin[ray]) (1.25.11)\n",
      "Requirement already satisfied: chardet<4.0,>=2.0 in /opt/conda/lib/python3.8/site-packages (from aiohttp->ray>=1.0.0->modin[ray]) (3.0.4)\n",
      "Requirement already satisfied: certifi>=2017.4.17 in /opt/conda/lib/python3.8/site-packages (from requests->ray>=1.0.0->modin[ray]) (2020.11.8)\n",
      "Requirement already satisfied: idna<3,>=2.5 in /opt/conda/lib/python3.8/site-packages (from requests->ray>=1.0.0->modin[ray]) (2.10)\n",
      "Requirement already satisfied: pyasn1<0.5.0,>=0.4.6 in /opt/conda/lib/python3.8/site-packages (from pyasn1-modules>=0.2.1->google-auth<2.0dev,>=1.21.1->google-api-core<2.0.0,>=1.0.0->opencensus->ray>=1.0.0->modin[ray]) (0.4.8)\n",
      "Requirement already satisfied: multidict<7.0,>=4.5 in /opt/conda/lib/python3.8/site-packages (from aiohttp->ray>=1.0.0->modin[ray]) (4.7.5)\n",
      "Requirement already satisfied: idna<3,>=2.5 in /opt/conda/lib/python3.8/site-packages (from requests->ray>=1.0.0->modin[ray]) (2.10)\n",
      "Requirement already satisfied: hvplot in /opt/conda/lib/python3.8/site-packages (0.7.0)\n",
      "Requirement already satisfied: bokeh>=1.0.0 in /opt/conda/lib/python3.8/site-packages (from hvplot) (2.2.3)\n",
      "Requirement already satisfied: holoviews>=1.11.0 in /opt/conda/lib/python3.8/site-packages (from hvplot) (1.14.0)\n",
      "Requirement already satisfied: numpy>=1.15 in /opt/conda/lib/python3.8/site-packages (from hvplot) (1.19.4)\n",
      "Requirement already satisfied: pandas in /opt/conda/lib/python3.8/site-packages (from hvplot) (1.1.4)\n",
      "Requirement already satisfied: colorcet>=2 in /opt/conda/lib/python3.8/site-packages (from hvplot) (2.0.2)\n",
      "Requirement already satisfied: pillow>=7.1.0 in /opt/conda/lib/python3.8/site-packages (from bokeh>=1.0.0->hvplot) (8.0.1)\n",
      "Requirement already satisfied: packaging>=16.8 in /opt/conda/lib/python3.8/site-packages (from bokeh>=1.0.0->hvplot) (20.4)\n",
      "Requirement already satisfied: tornado>=5.1 in /opt/conda/lib/python3.8/site-packages (from bokeh>=1.0.0->hvplot) (6.1)\n",
      "Requirement already satisfied: typing-extensions>=3.7.4 in /opt/conda/lib/python3.8/site-packages (from bokeh>=1.0.0->hvplot) (3.7.4.3)\n",
      "Requirement already satisfied: Jinja2>=2.7 in /opt/conda/lib/python3.8/site-packages (from bokeh>=1.0.0->hvplot) (2.11.2)\n",
      "Requirement already satisfied: python-dateutil>=2.1 in /opt/conda/lib/python3.8/site-packages (from bokeh>=1.0.0->hvplot) (2.8.1)\n",
      "Requirement already satisfied: PyYAML>=3.10 in /opt/conda/lib/python3.8/site-packages (from bokeh>=1.0.0->hvplot) (5.3.1)\n",
      "Requirement already satisfied: numpy>=1.15 in /opt/conda/lib/python3.8/site-packages (from hvplot) (1.19.4)\n",
      "Requirement already satisfied: param>=1.7.0 in /opt/conda/lib/python3.8/site-packages (from colorcet>=2->hvplot) (1.10.0)\n",
      "Requirement already satisfied: pyct>=0.4.4 in /opt/conda/lib/python3.8/site-packages (from colorcet>=2->hvplot) (0.4.8)\n",
      "Requirement already satisfied: param>=1.7.0 in /opt/conda/lib/python3.8/site-packages (from colorcet>=2->hvplot) (1.10.0)\n",
      "Requirement already satisfied: numpy>=1.15 in /opt/conda/lib/python3.8/site-packages (from hvplot) (1.19.4)\n",
      "Requirement already satisfied: pandas in /opt/conda/lib/python3.8/site-packages (from hvplot) (1.1.4)\n",
      "Requirement already satisfied: pyviz-comms>=0.7.3 in /opt/conda/lib/python3.8/site-packages (from holoviews>=1.11.0->hvplot) (0.7.6)\n",
      "Requirement already satisfied: panel>=0.8.0 in /opt/conda/lib/python3.8/site-packages (from holoviews>=1.11.0->hvplot) (0.10.2)\n",
      "Requirement already satisfied: colorcet>=2 in /opt/conda/lib/python3.8/site-packages (from hvplot) (2.0.2)\n",
      "Requirement already satisfied: MarkupSafe>=0.23 in /opt/conda/lib/python3.8/site-packages (from Jinja2>=2.7->bokeh>=1.0.0->hvplot) (1.1.1)\n",
      "Requirement already satisfied: pyparsing>=2.0.2 in /opt/conda/lib/python3.8/site-packages (from packaging>=16.8->bokeh>=1.0.0->hvplot) (2.4.7)\n",
      "Requirement already satisfied: six in /opt/conda/lib/python3.8/site-packages (from packaging>=16.8->bokeh>=1.0.0->hvplot) (1.15.0)\n",
      "Requirement already satisfied: python-dateutil>=2.1 in /opt/conda/lib/python3.8/site-packages (from bokeh>=1.0.0->hvplot) (2.8.1)\n",
      "Requirement already satisfied: pytz>=2017.2 in /opt/conda/lib/python3.8/site-packages (from pandas->hvplot) (2020.4)\n",
      "Requirement already satisfied: numpy>=1.15 in /opt/conda/lib/python3.8/site-packages (from hvplot) (1.19.4)\n",
      "Requirement already satisfied: requests in /opt/conda/lib/python3.8/site-packages (from panel>=0.8.0->holoviews>=1.11.0->hvplot) (2.24.0)\n",
      "Requirement already satisfied: param>=1.7.0 in /opt/conda/lib/python3.8/site-packages (from colorcet>=2->hvplot) (1.10.0)\n",
      "Requirement already satisfied: tqdm in /opt/conda/lib/python3.8/site-packages (from panel>=0.8.0->holoviews>=1.11.0->hvplot) (4.54.0)\n",
      "Requirement already satisfied: bokeh>=1.0.0 in /opt/conda/lib/python3.8/site-packages (from hvplot) (2.2.3)\n",
      "Requirement already satisfied: pyviz-comms>=0.7.3 in /opt/conda/lib/python3.8/site-packages (from holoviews>=1.11.0->hvplot) (0.7.6)\n",
      "Requirement already satisfied: pyct>=0.4.4 in /opt/conda/lib/python3.8/site-packages (from colorcet>=2->hvplot) (0.4.8)\n",
      "Requirement already satisfied: markdown in /opt/conda/lib/python3.8/site-packages (from panel>=0.8.0->holoviews>=1.11.0->hvplot) (3.3.3)\n",
      "Requirement already satisfied: param>=1.7.0 in /opt/conda/lib/python3.8/site-packages (from colorcet>=2->hvplot) (1.10.0)\n",
      "Requirement already satisfied: six in /opt/conda/lib/python3.8/site-packages (from packaging>=16.8->bokeh>=1.0.0->hvplot) (1.15.0)\n",
      "Requirement already satisfied: param>=1.7.0 in /opt/conda/lib/python3.8/site-packages (from colorcet>=2->hvplot) (1.10.0)\n",
      "Requirement already satisfied: urllib3!=1.25.0,!=1.25.1,<1.26,>=1.21.1 in /opt/conda/lib/python3.8/site-packages (from requests->panel>=0.8.0->holoviews>=1.11.0->hvplot) (1.25.11)\n",
      "Requirement already satisfied: idna<3,>=2.5 in /opt/conda/lib/python3.8/site-packages (from requests->panel>=0.8.0->holoviews>=1.11.0->hvplot) (2.10)\n",
      "Requirement already satisfied: chardet<4,>=3.0.2 in /opt/conda/lib/python3.8/site-packages (from requests->panel>=0.8.0->holoviews>=1.11.0->hvplot) (3.0.4)\n",
      "Requirement already satisfied: certifi>=2017.4.17 in /opt/conda/lib/python3.8/site-packages (from requests->panel>=0.8.0->holoviews>=1.11.0->hvplot) (2020.11.8)\n",
      "Requirement already satisfied: dask_ml in /opt/conda/lib/python3.8/site-packages (1.7.0)\n",
      "Requirement already satisfied: dask-glm>=0.2.0 in /opt/conda/lib/python3.8/site-packages (from dask_ml) (0.2.0)\n",
      "Requirement already satisfied: multipledispatch>=0.4.9 in /opt/conda/lib/python3.8/site-packages (from dask_ml) (0.6.0)\n",
      "Requirement already satisfied: scipy in /opt/conda/lib/python3.8/site-packages (from dask_ml) (1.5.3)\n",
      "Requirement already satisfied: packaging in /opt/conda/lib/python3.8/site-packages (from dask_ml) (20.4)\n",
      "Requirement already satisfied: dask[array,dataframe]>=2.4.0 in /opt/conda/lib/python3.8/site-packages (from dask_ml) (2.30.0)\n",
      "Requirement already satisfied: distributed>=2.4.0 in /opt/conda/lib/python3.8/site-packages (from dask_ml) (2.30.1)\n",
      "Requirement already satisfied: numba in /opt/conda/lib/python3.8/site-packages (from dask_ml) (0.52.0)\n",
      "Requirement already satisfied: scikit-learn>=0.23 in /opt/conda/lib/python3.8/site-packages (from dask_ml) (0.23.2)\n",
      "Requirement already satisfied: numpy>=1.17.3 in /opt/conda/lib/python3.8/site-packages (from dask_ml) (1.19.4)\n",
      "Requirement already satisfied: pandas>=0.24.2 in /opt/conda/lib/python3.8/site-packages (from dask_ml) (1.1.4)\n",
      "Requirement already satisfied: multipledispatch>=0.4.9 in /opt/conda/lib/python3.8/site-packages (from dask_ml) (0.6.0)\n",
      "Requirement already satisfied: scikit-learn>=0.23 in /opt/conda/lib/python3.8/site-packages (from dask_ml) (0.23.2)\n",
      "Requirement already satisfied: cloudpickle>=0.2.2 in /opt/conda/lib/python3.8/site-packages (from dask-glm>=0.2.0->dask_ml) (1.6.0)\n",
      "Requirement already satisfied: dask[array] in /opt/conda/lib/python3.8/site-packages (from dask-glm>=0.2.0->dask_ml) (2.30.0)\n",
      "Requirement already satisfied: scipy in /opt/conda/lib/python3.8/site-packages (from dask_ml) (1.5.3)\n",
      "Requirement already satisfied: pyyaml in /opt/conda/lib/python3.8/site-packages (from dask[array,dataframe]>=2.4.0->dask_ml) (5.3.1)\n",
      "Requirement already satisfied: numpy>=1.17.3 in /opt/conda/lib/python3.8/site-packages (from dask_ml) (1.19.4)\n",
      "Requirement already satisfied: fsspec>=0.6.0 in /opt/conda/lib/python3.8/site-packages (from dask[array,dataframe]>=2.4.0->dask_ml) (0.8.4)\n",
      "Requirement already satisfied: toolz>=0.8.2 in /opt/conda/lib/python3.8/site-packages (from dask[array,dataframe]>=2.4.0->dask_ml) (0.11.1)\n",
      "Requirement already satisfied: partd>=0.3.10 in /opt/conda/lib/python3.8/site-packages (from dask[array,dataframe]>=2.4.0->dask_ml) (1.1.0)\n",
      "Requirement already satisfied: pandas>=0.24.2 in /opt/conda/lib/python3.8/site-packages (from dask_ml) (1.1.4)\n",
      "Requirement already satisfied: toolz>=0.8.2 in /opt/conda/lib/python3.8/site-packages (from dask[array,dataframe]>=2.4.0->dask_ml) (0.11.1)\n",
      "Requirement already satisfied: numpy>=1.17.3 in /opt/conda/lib/python3.8/site-packages (from dask_ml) (1.19.4)\n",
      "Requirement already satisfied: pyyaml in /opt/conda/lib/python3.8/site-packages (from dask[array,dataframe]>=2.4.0->dask_ml) (5.3.1)\n",
      "Requirement already satisfied: pyyaml in /opt/conda/lib/python3.8/site-packages (from dask[array,dataframe]>=2.4.0->dask_ml) (5.3.1)\n",
      "Requirement already satisfied: toolz>=0.8.2 in /opt/conda/lib/python3.8/site-packages (from dask[array,dataframe]>=2.4.0->dask_ml) (0.11.1)\n",
      "Requirement already satisfied: numpy>=1.17.3 in /opt/conda/lib/python3.8/site-packages (from dask_ml) (1.19.4)\n",
      "Requirement already satisfied: toolz>=0.8.2 in /opt/conda/lib/python3.8/site-packages (from dask[array,dataframe]>=2.4.0->dask_ml) (0.11.1)\n",
      "Requirement already satisfied: sortedcontainers!=2.0.0,!=2.0.1 in /opt/conda/lib/python3.8/site-packages (from distributed>=2.4.0->dask_ml) (2.3.0)\n",
      "Requirement already satisfied: tblib>=1.6.0 in /opt/conda/lib/python3.8/site-packages (from distributed>=2.4.0->dask_ml) (1.6.0)\n",
      "Requirement already satisfied: cloudpickle>=0.2.2 in /opt/conda/lib/python3.8/site-packages (from dask-glm>=0.2.0->dask_ml) (1.6.0)\n",
      "Requirement already satisfied: psutil>=5.0 in /opt/conda/lib/python3.8/site-packages (from distributed>=2.4.0->dask_ml) (5.7.3)\n",
      "Requirement already satisfied: pyyaml in /opt/conda/lib/python3.8/site-packages (from dask[array,dataframe]>=2.4.0->dask_ml) (5.3.1)\n",
      "Requirement already satisfied: click>=6.6 in /opt/conda/lib/python3.8/site-packages (from distributed>=2.4.0->dask_ml) (7.1.2)\n",
      "Requirement already satisfied: zict>=0.1.3 in /opt/conda/lib/python3.8/site-packages (from distributed>=2.4.0->dask_ml) (2.0.0)\n",
      "Requirement already satisfied: msgpack>=0.6.0 in /opt/conda/lib/python3.8/site-packages (from distributed>=2.4.0->dask_ml) (1.0.0)\n",
      "Requirement already satisfied: setuptools in /opt/conda/lib/python3.8/site-packages (from distributed>=2.4.0->dask_ml) (49.6.0.post20201009)\n",
      "Requirement already satisfied: tornado>=6.0.3 in /opt/conda/lib/python3.8/site-packages (from distributed>=2.4.0->dask_ml) (6.1)\n",
      "Requirement already satisfied: six in /opt/conda/lib/python3.8/site-packages (from multipledispatch>=0.4.9->dask_ml) (1.15.0)\n",
      "Requirement already satisfied: numpy>=1.17.3 in /opt/conda/lib/python3.8/site-packages (from dask_ml) (1.19.4)\n",
      "Requirement already satisfied: setuptools in /opt/conda/lib/python3.8/site-packages (from distributed>=2.4.0->dask_ml) (49.6.0.post20201009)\n",
      "Requirement already satisfied: llvmlite<0.36,>=0.35.0 in /opt/conda/lib/python3.8/site-packages (from numba->dask_ml) (0.35.0)\n",
      "Requirement already satisfied: pyparsing>=2.0.2 in /opt/conda/lib/python3.8/site-packages (from packaging->dask_ml) (2.4.7)\n",
      "Requirement already satisfied: six in /opt/conda/lib/python3.8/site-packages (from multipledispatch>=0.4.9->dask_ml) (1.15.0)\n",
      "Requirement already satisfied: python-dateutil>=2.7.3 in /opt/conda/lib/python3.8/site-packages (from pandas>=0.24.2->dask_ml) (2.8.1)\n",
      "Requirement already satisfied: pytz>=2017.2 in /opt/conda/lib/python3.8/site-packages (from pandas>=0.24.2->dask_ml) (2020.4)\n",
      "Requirement already satisfied: numpy>=1.17.3 in /opt/conda/lib/python3.8/site-packages (from dask_ml) (1.19.4)\n",
      "Requirement already satisfied: locket in /opt/conda/lib/python3.8/site-packages (from partd>=0.3.10->dask[array,dataframe]>=2.4.0->dask_ml) (0.2.0)\n",
      "Requirement already satisfied: toolz>=0.8.2 in /opt/conda/lib/python3.8/site-packages (from dask[array,dataframe]>=2.4.0->dask_ml) (0.11.1)\n",
      "Requirement already satisfied: six in /opt/conda/lib/python3.8/site-packages (from multipledispatch>=0.4.9->dask_ml) (1.15.0)\n",
      "Requirement already satisfied: threadpoolctl>=2.0.0 in /opt/conda/lib/python3.8/site-packages (from scikit-learn>=0.23->dask_ml) (2.1.0)\n",
      "Requirement already satisfied: joblib>=0.11 in /opt/conda/lib/python3.8/site-packages (from scikit-learn>=0.23->dask_ml) (0.17.0)\n",
      "Requirement already satisfied: numpy>=1.17.3 in /opt/conda/lib/python3.8/site-packages (from dask_ml) (1.19.4)\n",
      "Requirement already satisfied: scipy in /opt/conda/lib/python3.8/site-packages (from dask_ml) (1.5.3)\n",
      "Requirement already satisfied: numpy>=1.17.3 in /opt/conda/lib/python3.8/site-packages (from dask_ml) (1.19.4)\n",
      "Requirement already satisfied: heapdict in /opt/conda/lib/python3.8/site-packages (from zict>=0.1.3->distributed>=2.4.0->dask_ml) (1.0.1)\n",
      "Requirement already satisfied: matplotlib in /opt/conda/lib/python3.8/site-packages (3.3.3)\n",
      "Requirement already satisfied: pillow>=6.2.0 in /opt/conda/lib/python3.8/site-packages (from matplotlib) (8.0.1)\n",
      "Requirement already satisfied: pyparsing!=2.0.4,!=2.1.2,!=2.1.6,>=2.0.3 in /opt/conda/lib/python3.8/site-packages (from matplotlib) (2.4.7)\n",
      "Requirement already satisfied: python-dateutil>=2.1 in /opt/conda/lib/python3.8/site-packages (from matplotlib) (2.8.1)\n",
      "Requirement already satisfied: numpy>=1.15 in /opt/conda/lib/python3.8/site-packages (from matplotlib) (1.19.4)\n",
      "Requirement already satisfied: kiwisolver>=1.0.1 in /opt/conda/lib/python3.8/site-packages (from matplotlib) (1.3.1)\n",
      "Requirement already satisfied: cycler>=0.10 in /opt/conda/lib/python3.8/site-packages (from matplotlib) (0.10.0)\n",
      "Requirement already satisfied: six in /opt/conda/lib/python3.8/site-packages (from cycler>=0.10->matplotlib) (1.15.0)\n",
      "Requirement already satisfied: six in /opt/conda/lib/python3.8/site-packages (from cycler>=0.10->matplotlib) (1.15.0)\n",
      "Credentials have been saved at /home/jovyan/.config/dask/coiled.yaml\n"
     ]
    }
   ],
   "source": [
    "!pip install dask\n",
    "!pip install pyfiglet\n",
    "!pip install coiled\n",
    "!pip install modin[ray]\n",
    "!pip install hvplot\n",
    "!pip install dask_ml\n",
    "!pip install matplotlib\n",
    "!coiled login --token f5fcedf00f9377ea379aa86a6431bb78d33a451e"
   ]
  },
  {
   "cell_type": "markdown",
   "metadata": {},
   "source": [
    "## Import libs"
   ]
  },
  {
   "cell_type": "code",
   "execution_count": 19,
   "metadata": {},
   "outputs": [],
   "source": [
    "import numpy as np\n",
    "import pandas as pd\n",
    "import csv\n",
    "import coiled\n",
    "import modin.pandas as modin_pd\n",
    "from pyfiglet import Figlet\n",
    "from datetime import datetime\n",
    "from dask.diagnostics import ProgressBar\n",
    "from dask.distributed import Client\n",
    "import dask.dataframe as dd\n",
    "from sklearn import preprocessing\n",
    "from joblib import Parallel, parallel_backend\n",
    "from sklearn.ensemble import RandomForestRegressor\n",
    "from sklearn import metrics\n",
    "import matplotlib.pyplot as plt"
   ]
  },
  {
   "cell_type": "markdown",
   "metadata": {},
   "source": [
    "## Crucial note"
   ]
  },
  {
   "cell_type": "code",
   "execution_count": 20,
   "metadata": {},
   "outputs": [
    {
     "name": "stdout",
     "output_type": "stream",
     "text": [
      "    ____ _    ______     __    ____ _    _____________\n",
      "   / __ ) |  / / __ \\   / /   / __ \\ |  / / ____/ ___/\n",
      "  / __  | | / / /_/ /  / /   / / / / | / / __/  \\__ \\ \n",
      " / /_/ /| |/ / ____/  / /___/ /_/ /| |/ / /___ ___/ / \n",
      "/_____/ |___/_/      /_____/\\____/ |___/_____//____/  \n",
      "                                                      \n",
      "   __________  ______    __________ \n",
      "  / ____/ __ \\/  _/ /   / ____/ __ \\\n",
      " / /   / / / // // /   / __/ / / / /\n",
      "/ /___/ /_/ // // /___/ /___/ /_/ / \n",
      "\\____/\\____/___/_____/_____/_____/  \n",
      "                                    \n",
      "\n"
     ]
    }
   ],
   "source": [
    "f = Figlet(font='slant')\n",
    "print(f.renderText('BVP LOVES COILED'))"
   ]
  },
  {
   "cell_type": "markdown",
   "metadata": {},
   "source": [
    "## Connect to Coiled"
   ]
  },
  {
   "cell_type": "code",
   "execution_count": 5,
   "metadata": {},
   "outputs": [
    {
     "name": "stdout",
     "output_type": "stream",
     "text": [
      "Creating Cluster. This takes about a minute ...Checking environment images\n",
      "Valid environment image found\n",
      "Dashboard: https://cloud.coiled.io/dashboard/3403/status\n"
     ]
    }
   ],
   "source": [
    "cluster = coiled.Cluster(\n",
    "    n_workers=5, \n",
    "    software=\"examples/optuna-xgboost\"\n",
    ")\n",
    "client = Client(cluster)\n",
    "client.wait_for_workers(5)\n",
    "\n",
    "print('Dashboard:', client.dashboard_link)"
   ]
  },
  {
   "cell_type": "markdown",
   "metadata": {},
   "source": [
    "## Time series comparison between Pandas, Ray and Coiled"
   ]
  },
  {
   "cell_type": "code",
   "execution_count": 21,
   "metadata": {},
   "outputs": [
    {
     "name": "stdout",
     "output_type": "stream",
     "text": [
      "[PANDAS] Time to process (hh:mm:ss:ms) 0:00:08.747382\n",
      "[RAY] Time to process (hh:mm:ss:ms) 0:00:09.403507\n",
      "[COILED] Time to process (hh:mm:ss:ms) 0:00:03.582213\n"
     ]
    }
   ],
   "source": [
    "start_time = datetime.now()\n",
    "pandas_df = pd.read_csv('https://www.dropbox.com/s/hp5dlbua9v6rwps/OUT_companies.csv?dl=1', encoding = 'ISO-8859-1')\n",
    "time_elapsed = datetime.now() - start_time \n",
    "print ('[PANDAS] Time to process (hh:mm:ss:ms) {}'.format(time_elapsed))\n",
    "\n",
    "start_time = datetime.now()\n",
    "modin_df = modin_pd.read_csv('https://www.dropbox.com/s/hp5dlbua9v6rwps/OUT_companies.csv?dl=1', encoding = 'ISO-8859-1')\n",
    "time_elapsed = datetime.now() - start_time \n",
    "print ('[RAY] Time to process (hh:mm:ss:ms) {}'.format(time_elapsed))\n",
    "\n",
    "start_time = datetime.now()\n",
    "coiled_df = dd.read_csv('https://www.dropbox.com/s/hp5dlbua9v6rwps/OUT_companies.csv?dl=1', encoding = 'ISO-8859-1')\n",
    "time_elapsed = datetime.now() - start_time \n",
    "print ('[COILED] Time to process (hh:mm:ss:ms) {}'.format(time_elapsed))"
   ]
  },
  {
   "cell_type": "markdown",
   "metadata": {},
   "source": [
    "## Process data in the cloud"
   ]
  },
  {
   "cell_type": "code",
   "execution_count": 22,
   "metadata": {},
   "outputs": [
    {
     "data": {
      "text/plain": [
       "DoneAndNotDoneFutures(done={<Future: finished, type: pandas.DataFrame, key: ('read-csv-a49ec3b864ca4b686623ed5f39f19bba', 4)>, <Future: finished, type: pandas.DataFrame, key: ('read-csv-a49ec3b864ca4b686623ed5f39f19bba', 1)>, <Future: finished, type: pandas.DataFrame, key: ('read-csv-a49ec3b864ca4b686623ed5f39f19bba', 6)>, <Future: finished, type: pandas.DataFrame, key: ('read-csv-a49ec3b864ca4b686623ed5f39f19bba', 2)>, <Future: finished, type: pandas.DataFrame, key: ('read-csv-a49ec3b864ca4b686623ed5f39f19bba', 7)>, <Future: finished, type: pandas.DataFrame, key: ('read-csv-a49ec3b864ca4b686623ed5f39f19bba', 3)>, <Future: finished, type: pandas.DataFrame, key: ('read-csv-a49ec3b864ca4b686623ed5f39f19bba', 8)>, <Future: finished, type: pandas.DataFrame, key: ('read-csv-a49ec3b864ca4b686623ed5f39f19bba', 10)>, <Future: finished, type: pandas.DataFrame, key: ('read-csv-a49ec3b864ca4b686623ed5f39f19bba', 0)>, <Future: finished, type: pandas.DataFrame, key: ('read-csv-a49ec3b864ca4b686623ed5f39f19bba', 5)>, <Future: finished, type: pandas.DataFrame, key: ('read-csv-a49ec3b864ca4b686623ed5f39f19bba', 9)>}, not_done=set())"
      ]
     },
     "execution_count": 22,
     "metadata": {},
     "output_type": "execute_result"
    }
   ],
   "source": [
    "import dask.dataframe as dd\n",
    "from dask.distributed import wait\n",
    "df = dd.read_csv(\n",
    "    \"s3://coiled2020/OUT_companies.csv\",\n",
    "    dtype={'conversion_ratio_x': 'object',\n",
    "       'conversion_ratio_y': 'object',\n",
    "       'customers': 'object',\n",
    "       'deal_type_3': 'object',\n",
    "       'debt_type_2': 'object',\n",
    "       'debt_type_3': 'object',\n",
    "       'market': 'object',\n",
    "       'morningstar_codes': 'object',\n",
    "       'naics_codes': 'object',\n",
    "       'sic_codes': 'object',\n",
    "       'zip': 'object',\n",
    "       'employee_count': 'float64',\n",
    "       'deal_size': 'float64',\n",
    "       'stock_series': 'string',\n",
    "       'post_valuation': 'float64',\n",
    "       'year_founded': 'string',\n",
    "    },\n",
    "    storage_options={\"anon\": True},\n",
    "    blocksize=\"16 MiB\",\n",
    ").persist()\n",
    "wait(df)"
   ]
  },
  {
   "cell_type": "markdown",
   "metadata": {},
   "source": [
    "## Basic cleaning"
   ]
  },
  {
   "cell_type": "code",
   "execution_count": 23,
   "metadata": {},
   "outputs": [
    {
     "name": "stdout",
     "output_type": "stream",
     "text": [
      "companies before cleaning 109626\n",
      "companies after cleaning 22067\n"
     ]
    },
    {
     "data": {
      "text/plain": [
       "0         NaN\n",
       "1    60.00000\n",
       "2    60.00000\n",
       "3    60.00000\n",
       "4    63.74999\n",
       "Name: post_valuation, dtype: float64"
      ]
     },
     "metadata": {},
     "output_type": "display_data"
    }
   ],
   "source": [
    "print ('companies before cleaning', len(df))\n",
    "unique_companies = df.company_id.unique()\n",
    "print('companies after cleaning', len(unique_companies))\n",
    "display(df['post_valuation'].head())"
   ]
  },
  {
   "cell_type": "code",
   "execution_count": 24,
   "metadata": {},
   "outputs": [
    {
     "data": {
      "text/plain": [
       "company_id                    0.000000\n",
       "company_name_x                3.773740\n",
       "familiar_name                82.116469\n",
       "previous_name                68.718187\n",
       "exchange                     94.060716\n",
       "                               ...    \n",
       "liquidation                  12.135807\n",
       "liquidation_pref_mutliple    19.447029\n",
       "conversion_price             11.898637\n",
       "percent_owned                12.087461\n",
       "last_updated_y_y             11.334902\n",
       "Length: 166, dtype: float64"
      ]
     },
     "execution_count": 24,
     "metadata": {},
     "output_type": "execute_result"
    }
   ],
   "source": [
    "missing_values = df.isnull().sum()\n",
    "with ProgressBar():\n",
    "    percent_missing = ((missing_values / df.index.size) * 100).compute()\n",
    "percent_missing"
   ]
  },
  {
   "cell_type": "code",
   "execution_count": 25,
   "metadata": {},
   "outputs": [],
   "source": [
    "df = df.dropna(subset=['post_valuation','year_founded'])"
   ]
  },
  {
   "cell_type": "markdown",
   "metadata": {},
   "source": [
    "## Plot histrogram of series"
   ]
  },
  {
   "cell_type": "code",
   "execution_count": 26,
   "metadata": {},
   "outputs": [
    {
     "data": {
      "text/plain": [
       "<AxesSubplot:>"
      ]
     },
     "execution_count": 26,
     "metadata": {},
     "output_type": "execute_result"
    },
    {
     "data": {
      "image/png": "[encoded data removed]",
      "text/plain": [
       "<Figure size 432x288 with 1 Axes>"
      ]
     },
     "metadata": {
      "needs_background": "light"
     },
     "output_type": "display_data"
    }
   ],
   "source": [
    "df.loc[df.stock_series.isin([\"A\", \"B\", \"C\", \"D\", \"Seed\"])].compute()['stock_series'].hist()   "
   ]
  },
  {
   "cell_type": "markdown",
   "metadata": {},
   "source": [
    "## Train random forest model"
   ]
  },
  {
   "cell_type": "code",
   "execution_count": 27,
   "metadata": {},
   "outputs": [],
   "source": [
    "computed_df = df.compute()\n",
    "computed_df = computed_df.loc[:,['year_founded','total_raised_to_date','state','zip','ceo_first_name','post_valuation']]\n",
    "computed_df = computed_df.dropna(axis=0)\n",
    "X_train = computed_df.loc[:,['year_founded','total_raised_to_date','state','zip','ceo_first_name']]\n",
    "y = computed_df.post_valuation.astype('float')\n",
    "le = preprocessing.LabelEncoder()\n",
    "le.fit(X_train['ceo_first_name'].astype(str))\n",
    "X_train.loc[:,'ceo_first_name'] = le.transform(X_train['ceo_first_name'].astype(str))\n",
    "le.fit(X_train['zip'])\n",
    "X_train.loc[:,'zip'] = le.transform(X_train['zip'])"
   ]
  },
  {
   "cell_type": "markdown",
   "metadata": {},
   "source": [
    "## Calculate error "
   ]
  },
  {
   "cell_type": "code",
   "execution_count": 28,
   "metadata": {},
   "outputs": [
    {
     "name": "stdout",
     "output_type": "stream",
     "text": [
      "RMSE Error 10 : 84.24259156670361\n",
      "RMSE Error 50 : 84.06805750937436\n",
      "RMSE Error 100 : 84.03621233908649\n",
      "RMSE Error 200 : 84.03902830821886\n",
      "RMSE Error 300 : 83.99207972477093\n"
     ]
    }
   ],
   "source": [
    "n_estimators = [10,50,100,200,300]\n",
    "errors = []\n",
    "with parallel_backend('dask'):\n",
    "    for i in n_estimators:\n",
    "        rfr = RandomForestRegressor(n_estimators=i)\n",
    "        rfr.fit(X_train,y)\n",
    "        y_pred = rfr.predict(X_train)\n",
    "        print(f'RMSE Error {i} : {metrics.mean_absolute_error(y, y_pred)}')\n",
    "        errors.append(metrics.mean_absolute_error(y, y_pred))"
   ]
  },
  {
   "cell_type": "markdown",
   "metadata": {},
   "source": [
    "## Plot error"
   ]
  },
  {
   "cell_type": "code",
   "execution_count": 29,
   "metadata": {},
   "outputs": [
    {
     "data": {
      "text/plain": [
       "[<matplotlib.lines.Line2D at 0x7f04ee87cf10>]"
      ]
     },
     "execution_count": 29,
     "metadata": {},
     "output_type": "execute_result"
    },
    {
     "data": {
      "image/png": "[encoded data removed]",
      "text/plain": [
       "<Figure size 432x288 with 1 Axes>"
      ]
     },
     "metadata": {
      "needs_background": "light"
     },
     "output_type": "display_data"
    }
   ],
   "source": [
    "plt.plot(n_estimators,errors)"
   ]
  },
  {
   "cell_type": "code",
   "execution_count": null,
   "metadata": {},
   "outputs": [],
   "source": []
  }
 ],
 "metadata": {
  "kernelspec": {
   "display_name": "Python 3",
   "language": "python",
   "name": "python3"
  },
  "language_info": {
   "codemirror_mode": {
    "name": "ipython",
    "version": 3
   },
   "file_extension": ".py",
   "mimetype": "text/x-python",
   "name": "python",
   "nbconvert_exporter": "python",
   "pygments_lexer": "ipython3",
   "version": "3.8.6"
  }
 },
 "nbformat": 4,
 "nbformat_minor": 4
}
